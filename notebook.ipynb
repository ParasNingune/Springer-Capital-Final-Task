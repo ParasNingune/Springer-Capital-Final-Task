{
 "cells": [
  {
   "cell_type": "code",
   "execution_count": 23,
   "id": "1e485d00-5dae-4780-9992-838981e2fe44",
   "metadata": {},
   "outputs": [],
   "source": [
    "import pandas as pd\n",
    "import numpy as np"
   ]
  },
  {
   "cell_type": "code",
   "execution_count": 24,
   "id": "eebf8a90-0d16-45a6-a1e3-a30273974c54",
   "metadata": {},
   "outputs": [
    {
     "data": {
      "text/html": [
       "<div>\n",
       "<style scoped>\n",
       "    .dataframe tbody tr th:only-of-type {\n",
       "        vertical-align: middle;\n",
       "    }\n",
       "\n",
       "    .dataframe tbody tr th {\n",
       "        vertical-align: top;\n",
       "    }\n",
       "\n",
       "    .dataframe thead th {\n",
       "        text-align: right;\n",
       "    }\n",
       "</style>\n",
       "<table border=\"1\" class=\"dataframe\">\n",
       "  <thead>\n",
       "    <tr style=\"text-align: right;\">\n",
       "      <th></th>\n",
       "      <th>Subject</th>\n",
       "      <th>body</th>\n",
       "      <th>date</th>\n",
       "      <th>from</th>\n",
       "    </tr>\n",
       "  </thead>\n",
       "  <tbody>\n",
       "    <tr>\n",
       "      <th>0</th>\n",
       "      <td>EnronOptions Update!</td>\n",
       "      <td>EnronOptions Announcement\\n\\n\\nWe have updated...</td>\n",
       "      <td>5/10/2010</td>\n",
       "      <td>sally.beck@enron.com</td>\n",
       "    </tr>\n",
       "    <tr>\n",
       "      <th>1</th>\n",
       "      <td>(No Subject)</td>\n",
       "      <td>Marc,\\n\\nUnfortunately, today is not going to ...</td>\n",
       "      <td>7/29/2010</td>\n",
       "      <td>eric.bass@enron.com</td>\n",
       "    </tr>\n",
       "    <tr>\n",
       "      <th>2</th>\n",
       "      <td>Phone Screen  Interview - Shannon L. Burnham</td>\n",
       "      <td>When: Wednesday, June 06, 2001 10:00 AM-11:00 ...</td>\n",
       "      <td>7/25/2011</td>\n",
       "      <td>sally.beck@enron.com</td>\n",
       "    </tr>\n",
       "    <tr>\n",
       "      <th>3</th>\n",
       "      <td>RE: My new work email</td>\n",
       "      <td>we were thinking papasitos (we can meet somewh...</td>\n",
       "      <td>3/25/2010</td>\n",
       "      <td>johnny.palmer@enron.com</td>\n",
       "    </tr>\n",
       "    <tr>\n",
       "      <th>4</th>\n",
       "      <td>Bet</td>\n",
       "      <td>Since you never gave me the $20 for the last t...</td>\n",
       "      <td>5/21/2011</td>\n",
       "      <td>lydia.delgado@enron.com</td>\n",
       "    </tr>\n",
       "  </tbody>\n",
       "</table>\n",
       "</div>"
      ],
      "text/plain": [
       "                                        Subject  \\\n",
       "0                          EnronOptions Update!   \n",
       "1                                  (No Subject)   \n",
       "2  Phone Screen  Interview - Shannon L. Burnham   \n",
       "3                         RE: My new work email   \n",
       "4                                           Bet   \n",
       "\n",
       "                                                body       date  \\\n",
       "0  EnronOptions Announcement\\n\\n\\nWe have updated...  5/10/2010   \n",
       "1  Marc,\\n\\nUnfortunately, today is not going to ...  7/29/2010   \n",
       "2  When: Wednesday, June 06, 2001 10:00 AM-11:00 ...  7/25/2011   \n",
       "3  we were thinking papasitos (we can meet somewh...  3/25/2010   \n",
       "4  Since you never gave me the $20 for the last t...  5/21/2011   \n",
       "\n",
       "                      from  \n",
       "0     sally.beck@enron.com  \n",
       "1      eric.bass@enron.com  \n",
       "2     sally.beck@enron.com  \n",
       "3  johnny.palmer@enron.com  \n",
       "4  lydia.delgado@enron.com  "
      ]
     },
     "execution_count": 24,
     "metadata": {},
     "output_type": "execute_result"
    }
   ],
   "source": [
    "dataset = pd.read_csv(\"./Data/test(in).csv\", parse_dates=True)\n",
    "dataset.head()"
   ]
  },
  {
   "cell_type": "markdown",
   "id": "b8f7b27e-6b15-4a39-9619-27a00fcf4493",
   "metadata": {},
   "source": [
    "# Task-1"
   ]
  },
  {
   "cell_type": "code",
   "execution_count": 25,
   "id": "3e457820-e594-4382-bc1c-1270a661de4e",
   "metadata": {
    "scrolled": true
   },
   "outputs": [
    {
     "name": "stderr",
     "output_type": "stream",
     "text": [
      "huggingface/tokenizers: The current process just got forked, after parallelism has already been used. Disabling parallelism to avoid deadlocks...\n",
      "To disable this warning, you can either:\n",
      "\t- Avoid using `tokenizers` before the fork if possible\n",
      "\t- Explicitly set the environment variable TOKENIZERS_PARALLELISM=(true | false)\n"
     ]
    },
    {
     "name": "stdout",
     "output_type": "stream",
     "text": [
      "Requirement already satisfied: transformers in ./env/lib/python3.12/site-packages (4.55.0)\n",
      "Requirement already satisfied: filelock in ./env/lib/python3.12/site-packages (from transformers) (3.18.0)\n",
      "Requirement already satisfied: huggingface-hub<1.0,>=0.34.0 in ./env/lib/python3.12/site-packages (from transformers) (0.34.3)\n",
      "Requirement already satisfied: numpy>=1.17 in ./env/lib/python3.12/site-packages (from transformers) (2.3.2)\n",
      "Requirement already satisfied: packaging>=20.0 in ./env/lib/python3.12/site-packages (from transformers) (25.0)\n",
      "Requirement already satisfied: pyyaml>=5.1 in ./env/lib/python3.12/site-packages (from transformers) (6.0.2)\n",
      "Requirement already satisfied: regex!=2019.12.17 in ./env/lib/python3.12/site-packages (from transformers) (2025.7.34)\n",
      "Requirement already satisfied: requests in ./env/lib/python3.12/site-packages (from transformers) (2.32.4)\n",
      "Requirement already satisfied: tokenizers<0.22,>=0.21 in ./env/lib/python3.12/site-packages (from transformers) (0.21.4)\n",
      "Requirement already satisfied: safetensors>=0.4.3 in ./env/lib/python3.12/site-packages (from transformers) (0.6.1)\n",
      "Requirement already satisfied: tqdm>=4.27 in ./env/lib/python3.12/site-packages (from transformers) (4.67.1)\n",
      "Requirement already satisfied: fsspec>=2023.5.0 in ./env/lib/python3.12/site-packages (from huggingface-hub<1.0,>=0.34.0->transformers) (2025.7.0)\n",
      "Requirement already satisfied: typing-extensions>=3.7.4.3 in ./env/lib/python3.12/site-packages (from huggingface-hub<1.0,>=0.34.0->transformers) (4.14.1)\n",
      "Requirement already satisfied: hf-xet<2.0.0,>=1.1.3 in ./env/lib/python3.12/site-packages (from huggingface-hub<1.0,>=0.34.0->transformers) (1.1.7)\n",
      "Requirement already satisfied: charset_normalizer<4,>=2 in ./env/lib/python3.12/site-packages (from requests->transformers) (3.4.2)\n",
      "Requirement already satisfied: idna<4,>=2.5 in ./env/lib/python3.12/site-packages (from requests->transformers) (3.10)\n",
      "Requirement already satisfied: urllib3<3,>=1.21.1 in ./env/lib/python3.12/site-packages (from requests->transformers) (2.5.0)\n",
      "Requirement already satisfied: certifi>=2017.4.17 in ./env/lib/python3.12/site-packages (from requests->transformers) (2025.8.3)\n",
      "\n",
      "\u001b[1m[\u001b[0m\u001b[34;49mnotice\u001b[0m\u001b[1;39;49m]\u001b[0m\u001b[39;49m A new release of pip is available: \u001b[0m\u001b[31;49m24.0\u001b[0m\u001b[39;49m -> \u001b[0m\u001b[32;49m25.2\u001b[0m\n",
      "\u001b[1m[\u001b[0m\u001b[34;49mnotice\u001b[0m\u001b[1;39;49m]\u001b[0m\u001b[39;49m To update, run: \u001b[0m\u001b[32;49mpip install --upgrade pip\u001b[0m\n"
     ]
    }
   ],
   "source": [
    "!pip3 install transformers"
   ]
  },
  {
   "cell_type": "code",
   "execution_count": 26,
   "id": "1af8bf7a-b973-41af-ac9a-5ba6faf9736a",
   "metadata": {},
   "outputs": [],
   "source": [
    "from transformers import pipeline\n",
    "from transformers import AutoTokenizer, AutoModelForSequenceClassification\n",
    "import torch\n",
    "import torch.nn.functional as F"
   ]
  },
  {
   "cell_type": "code",
   "execution_count": 27,
   "id": "2a3bf054-f544-4b72-a1da-c5dc53137a4a",
   "metadata": {},
   "outputs": [
    {
     "name": "stderr",
     "output_type": "stream",
     "text": [
      "Device set to use mps:0\n"
     ]
    }
   ],
   "source": [
    "pipe = pipeline(\"text-classification\", model=\"nlptown/bert-base-multilingual-uncased-sentiment\")\n",
    "\n",
    "tokenizer = AutoTokenizer.from_pretrained(\"nlptown/bert-base-multilingual-uncased-sentiment\")\n",
    "model = AutoModelForSequenceClassification.from_pretrained(\"nlptown/bert-base-multilingual-uncased-sentiment\")  "
   ]
  },
  {
   "cell_type": "code",
   "execution_count": 33,
   "id": "2d9f6206-29b1-405e-8933-574f4aebf1fd",
   "metadata": {},
   "outputs": [
    {
     "name": "stdout",
     "output_type": "stream",
     "text": [
      "Using device: mps\n"
     ]
    }
   ],
   "source": [
    "if torch.backends.mps.is_available():\n",
    "    device = torch.device(\"mps\")\n",
    "elif torch.cuda.is_available():\n",
    "    device = torch.device(\"cuda\")\n",
    "else:\n",
    "    device = torch.device(\"cpu\")\n",
    "\n",
    "print(f\"Using device: {device}\")\n",
    "\n",
    "model = model.to(device)\n",
    "model.eval()\n",
    "class_names = [\"very negative\", \"negative\", \"neutral\", \"positive\", \"very positive\"]\n",
    "\n",
    "def get_sentiments(text):\n",
    "    inputs = tokenizer(text, return_tensors=\"pt\", padding=True, truncation=True)\n",
    "    inputs = {k: v.to(device) for k, v in inputs.items()}\n",
    "\n",
    "    with torch.no_grad():\n",
    "        outputs = model(**inputs)\n",
    "        logits = outputs.logits\n",
    "        probabilities = F.softmax(logits, dim=1)\n",
    "        predicted_class = torch.argmax(probabilities, dim=1).item()\n",
    "\n",
    "    return class_names[predicted_class]"
   ]
  },
  {
   "cell_type": "code",
   "execution_count": 34,
   "id": "072def0d-a5d0-4c5c-bc3f-8ea6dbf18b61",
   "metadata": {},
   "outputs": [],
   "source": [
    "dataset[\"Sentiment\"] = dataset[\"body\"].apply(get_sentiments)"
   ]
  },
  {
   "cell_type": "code",
   "execution_count": 35,
   "id": "e16c2688-91cd-456f-baae-dd1ea0d6f9bc",
   "metadata": {},
   "outputs": [
    {
     "data": {
      "text/html": [
       "<div>\n",
       "<style scoped>\n",
       "    .dataframe tbody tr th:only-of-type {\n",
       "        vertical-align: middle;\n",
       "    }\n",
       "\n",
       "    .dataframe tbody tr th {\n",
       "        vertical-align: top;\n",
       "    }\n",
       "\n",
       "    .dataframe thead th {\n",
       "        text-align: right;\n",
       "    }\n",
       "</style>\n",
       "<table border=\"1\" class=\"dataframe\">\n",
       "  <thead>\n",
       "    <tr style=\"text-align: right;\">\n",
       "      <th></th>\n",
       "      <th>Subject</th>\n",
       "      <th>body</th>\n",
       "      <th>date</th>\n",
       "      <th>from</th>\n",
       "      <th>Sentiment</th>\n",
       "    </tr>\n",
       "  </thead>\n",
       "  <tbody>\n",
       "    <tr>\n",
       "      <th>0</th>\n",
       "      <td>EnronOptions Update!</td>\n",
       "      <td>EnronOptions Announcement\\n\\n\\nWe have updated...</td>\n",
       "      <td>5/10/2010</td>\n",
       "      <td>sally.beck@enron.com</td>\n",
       "      <td>positive</td>\n",
       "    </tr>\n",
       "    <tr>\n",
       "      <th>1</th>\n",
       "      <td>(No Subject)</td>\n",
       "      <td>Marc,\\n\\nUnfortunately, today is not going to ...</td>\n",
       "      <td>7/29/2010</td>\n",
       "      <td>eric.bass@enron.com</td>\n",
       "      <td>very negative</td>\n",
       "    </tr>\n",
       "    <tr>\n",
       "      <th>2</th>\n",
       "      <td>Phone Screen  Interview - Shannon L. Burnham</td>\n",
       "      <td>When: Wednesday, June 06, 2001 10:00 AM-11:00 ...</td>\n",
       "      <td>7/25/2011</td>\n",
       "      <td>sally.beck@enron.com</td>\n",
       "      <td>very negative</td>\n",
       "    </tr>\n",
       "    <tr>\n",
       "      <th>3</th>\n",
       "      <td>RE: My new work email</td>\n",
       "      <td>we were thinking papasitos (we can meet somewh...</td>\n",
       "      <td>3/25/2010</td>\n",
       "      <td>johnny.palmer@enron.com</td>\n",
       "      <td>very negative</td>\n",
       "    </tr>\n",
       "    <tr>\n",
       "      <th>4</th>\n",
       "      <td>Bet</td>\n",
       "      <td>Since you never gave me the $20 for the last t...</td>\n",
       "      <td>5/21/2011</td>\n",
       "      <td>lydia.delgado@enron.com</td>\n",
       "      <td>very negative</td>\n",
       "    </tr>\n",
       "    <tr>\n",
       "      <th>5</th>\n",
       "      <td>RE: Favor</td>\n",
       "      <td>sure, just call me the bank that delivers.\\n \\...</td>\n",
       "      <td>10/23/2011</td>\n",
       "      <td>eric.bass@enron.com</td>\n",
       "      <td>neutral</td>\n",
       "    </tr>\n",
       "    <tr>\n",
       "      <th>6</th>\n",
       "      <td>MG Inventory Summaries</td>\n",
       "      <td>Inventory summaries for both MGL and MGMCC as ...</td>\n",
       "      <td>4/5/2010</td>\n",
       "      <td>kayne.coulter@enron.com</td>\n",
       "      <td>very positive</td>\n",
       "    </tr>\n",
       "    <tr>\n",
       "      <th>7</th>\n",
       "      <td>Forgot the Attachment</td>\n",
       "      <td>Please print attachment and make sure that e:m...</td>\n",
       "      <td>4/21/2010</td>\n",
       "      <td>patti.thompson@enron.com</td>\n",
       "      <td>very positive</td>\n",
       "    </tr>\n",
       "    <tr>\n",
       "      <th>8</th>\n",
       "      <td>Garvin Brown - AXIA Sr. Power Scheduler</td>\n",
       "      <td>Please advise me of your interest in Garvin's ...</td>\n",
       "      <td>2/7/2010</td>\n",
       "      <td>sally.beck@enron.com</td>\n",
       "      <td>very positive</td>\n",
       "    </tr>\n",
       "    <tr>\n",
       "      <th>9</th>\n",
       "      <td>More Dallas ASE Information</td>\n",
       "      <td>The start time for Tuesday morning has been ch...</td>\n",
       "      <td>2/6/2010</td>\n",
       "      <td>kayne.coulter@enron.com</td>\n",
       "      <td>neutral</td>\n",
       "    </tr>\n",
       "  </tbody>\n",
       "</table>\n",
       "</div>"
      ],
      "text/plain": [
       "                                        Subject  \\\n",
       "0                          EnronOptions Update!   \n",
       "1                                  (No Subject)   \n",
       "2  Phone Screen  Interview - Shannon L. Burnham   \n",
       "3                         RE: My new work email   \n",
       "4                                           Bet   \n",
       "5                                     RE: Favor   \n",
       "6                        MG Inventory Summaries   \n",
       "7                         Forgot the Attachment   \n",
       "8       Garvin Brown - AXIA Sr. Power Scheduler   \n",
       "9                   More Dallas ASE Information   \n",
       "\n",
       "                                                body        date  \\\n",
       "0  EnronOptions Announcement\\n\\n\\nWe have updated...   5/10/2010   \n",
       "1  Marc,\\n\\nUnfortunately, today is not going to ...   7/29/2010   \n",
       "2  When: Wednesday, June 06, 2001 10:00 AM-11:00 ...   7/25/2011   \n",
       "3  we were thinking papasitos (we can meet somewh...   3/25/2010   \n",
       "4  Since you never gave me the $20 for the last t...   5/21/2011   \n",
       "5  sure, just call me the bank that delivers.\\n \\...  10/23/2011   \n",
       "6  Inventory summaries for both MGL and MGMCC as ...    4/5/2010   \n",
       "7  Please print attachment and make sure that e:m...   4/21/2010   \n",
       "8  Please advise me of your interest in Garvin's ...    2/7/2010   \n",
       "9  The start time for Tuesday morning has been ch...    2/6/2010   \n",
       "\n",
       "                       from      Sentiment  \n",
       "0      sally.beck@enron.com       positive  \n",
       "1       eric.bass@enron.com  very negative  \n",
       "2      sally.beck@enron.com  very negative  \n",
       "3   johnny.palmer@enron.com  very negative  \n",
       "4   lydia.delgado@enron.com  very negative  \n",
       "5       eric.bass@enron.com        neutral  \n",
       "6   kayne.coulter@enron.com  very positive  \n",
       "7  patti.thompson@enron.com  very positive  \n",
       "8      sally.beck@enron.com  very positive  \n",
       "9   kayne.coulter@enron.com        neutral  "
      ]
     },
     "execution_count": 35,
     "metadata": {},
     "output_type": "execute_result"
    }
   ],
   "source": [
    "dataset.head(10)"
   ]
  },
  {
   "cell_type": "code",
   "execution_count": null,
   "id": "f6747084-bb93-4c8a-8a77-2813a0e10662",
   "metadata": {},
   "outputs": [],
   "source": []
  }
 ],
 "metadata": {
  "kernelspec": {
   "display_name": "Python 3 (ipykernel)",
   "language": "python",
   "name": "python3"
  },
  "language_info": {
   "codemirror_mode": {
    "name": "ipython",
    "version": 3
   },
   "file_extension": ".py",
   "mimetype": "text/x-python",
   "name": "python",
   "nbconvert_exporter": "python",
   "pygments_lexer": "ipython3",
   "version": "3.12.3"
  }
 },
 "nbformat": 4,
 "nbformat_minor": 5
}
